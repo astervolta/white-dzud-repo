{
 "cells": [
  {
   "cell_type": "code",
   "execution_count": 1,
   "id": "4ab97ec8",
   "metadata": {
    "scrolled": true
   },
   "outputs": [],
   "source": [
    "################################################################\n",
    "# Purpose: Read TIF satellite data \n",
    "# Author: Aster Volta\n",
    "# Date: 7/22/22\n",
    "################################################################\n",
    "\n",
    "# Set up the libraries and modules\n",
    "#\n",
    "import pandas as pd\n",
    "import numpy as np\n",
    "import os\n",
    "import matplotlib.pyplot as plt\n",
    "\n",
    "import rasterio"
   ]
  },
  {
   "cell_type": "code",
   "execution_count": 4,
   "id": "97a82a72",
   "metadata": {},
   "outputs": [],
   "source": [
    "with rasterio.open('monthlyTemp_202011_geemap.tif') as src:\n",
    "    array = src.read(1)\n",
    "\n",
    "array[array==0] = np.nan"
   ]
  },
  {
   "cell_type": "code",
   "execution_count": 5,
   "id": "3959737e",
   "metadata": {},
   "outputs": [
    {
     "data": {
      "text/plain": [
       "array([[nan, nan, nan, ..., nan, nan, nan],\n",
       "       [nan, nan, nan, ..., nan, nan, nan],\n",
       "       [nan, nan, nan, ..., nan, nan, nan],\n",
       "       ...,\n",
       "       [nan, nan, nan, ..., nan, nan, nan],\n",
       "       [nan, nan, nan, ..., nan, nan, nan],\n",
       "       [nan, nan, nan, ..., nan, nan, nan]], dtype=float32)"
      ]
     },
     "execution_count": 5,
     "metadata": {},
     "output_type": "execute_result"
    }
   ],
   "source": [
    "array"
   ]
  },
  {
   "cell_type": "code",
   "execution_count": 6,
   "id": "7bf315d5",
   "metadata": {},
   "outputs": [],
   "source": [
    "np.savetxt(\"monthlyTemp_202011_geemap.csv\", array, delimiter=\",\")"
   ]
  },
  {
   "cell_type": "markdown",
   "id": "4eee4954",
   "metadata": {},
   "source": [
    "### CONT. TO NOTEBOOK 3. CSV TO COLD SNAPS"
   ]
  }
 ],
 "metadata": {
  "kernelspec": {
   "display_name": "Python 3 (ipykernel)",
   "language": "python",
   "name": "python3"
  },
  "language_info": {
   "codemirror_mode": {
    "name": "ipython",
    "version": 3
   },
   "file_extension": ".py",
   "mimetype": "text/x-python",
   "name": "python",
   "nbconvert_exporter": "python",
   "pygments_lexer": "ipython3",
   "version": "3.8.12"
  }
 },
 "nbformat": 4,
 "nbformat_minor": 5
}
